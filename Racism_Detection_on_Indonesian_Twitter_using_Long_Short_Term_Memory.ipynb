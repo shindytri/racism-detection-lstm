{
  "nbformat": 4,
  "nbformat_minor": 0,
  "metadata": {
    "colab": {
      "name": "Racism Detection on Indonesian Twitter using Long Short-Term Memory.ipynb",
      "provenance": [],
      "collapsed_sections": [
        "m0dXX5FUyxFj",
        "NiwTdMzv45Ou"
      ]
    },
    "kernelspec": {
      "name": "python3",
      "display_name": "Python 3"
    }
  },
  "cells": [
    {
      "cell_type": "code",
      "metadata": {
        "id": "VYm8IOpN3QdE",
        "colab_type": "code",
        "colab": {
          "base_uri": "https://localhost:8080/",
          "height": 122
        },
        "outputId": "7fc8fb23-e1de-4bcb-8783-21f6db698ac8"
      },
      "source": [
        "from google.colab import drive\n",
        "drive.mount('/content/gdrive', force_remount=True)"
      ],
      "execution_count": null,
      "outputs": [
        {
          "output_type": "stream",
          "text": [
            "Go to this URL in a browser: https://accounts.google.com/o/oauth2/auth?client_id=947318989803-6bn6qk8qdgf4n4g3pfee6491hc0brc4i.apps.googleusercontent.com&redirect_uri=urn%3aietf%3awg%3aoauth%3a2.0%3aoob&scope=email%20https%3a%2f%2fwww.googleapis.com%2fauth%2fdocs.test%20https%3a%2f%2fwww.googleapis.com%2fauth%2fdrive%20https%3a%2f%2fwww.googleapis.com%2fauth%2fdrive.photos.readonly%20https%3a%2f%2fwww.googleapis.com%2fauth%2fpeopleapi.readonly&response_type=code\n",
            "\n",
            "Enter your authorization code:\n",
            "··········\n",
            "Mounted at /content/gdrive\n"
          ],
          "name": "stdout"
        }
      ]
    },
    {
      "cell_type": "code",
      "metadata": {
        "id": "I330W3NDy3Qq",
        "colab_type": "code",
        "colab": {}
      },
      "source": [
        "import re\n",
        "import pandas as pd\n",
        "from collections import Counter\n",
        "from sklearn.model_selection import train_test_split\n",
        "from keras.models import Sequential\n",
        "from keras.layers import SpatialDropout1D, LSTM, Dense, Embedding\n",
        "from keras.callbacks import EarlyStopping\n",
        "from itertools import chain \n",
        "from wordcloud import WordCloud\n",
        "import matplotlib.pyplot as plt\n",
        "from tensorflow.keras.preprocessing.text import Tokenizer\n",
        "from keras.preprocessing.sequence import pad_sequences"
      ],
      "execution_count": null,
      "outputs": []
    },
    {
      "cell_type": "markdown",
      "metadata": {
        "id": "GO8KMOMlspKy",
        "colab_type": "text"
      },
      "source": [
        "#Read Dataset"
      ]
    },
    {
      "cell_type": "code",
      "metadata": {
        "id": "kdlFaZ8TQ6XQ",
        "colab_type": "code",
        "colab": {
          "base_uri": "https://localhost:8080/",
          "height": 419
        },
        "outputId": "57333f06-09c2-420f-ed78-ac810ee9aa98"
      },
      "source": [
        "df = pd.read_csv('/content/gdrive/My Drive/FILE FG - RACISM/Dataset/datasetfix.csv', sep=',')\n",
        "df.drop(df.columns[df.columns.str.contains('unnamed',case = False)],axis = 1, inplace = True)\n",
        "df"
      ],
      "execution_count": null,
      "outputs": [
        {
          "output_type": "execute_result",
          "data": {
            "text/html": [
              "<div>\n",
              "<style scoped>\n",
              "    .dataframe tbody tr th:only-of-type {\n",
              "        vertical-align: middle;\n",
              "    }\n",
              "\n",
              "    .dataframe tbody tr th {\n",
              "        vertical-align: top;\n",
              "    }\n",
              "\n",
              "    .dataframe thead th {\n",
              "        text-align: right;\n",
              "    }\n",
              "</style>\n",
              "<table border=\"1\" class=\"dataframe\">\n",
              "  <thead>\n",
              "    <tr style=\"text-align: right;\">\n",
              "      <th></th>\n",
              "      <th>tweets</th>\n",
              "      <th>label</th>\n",
              "    </tr>\n",
              "  </thead>\n",
              "  <tbody>\n",
              "    <tr>\n",
              "      <th>0</th>\n",
              "      <td>Trus nih buat yg nanya kenapa gak dibangun di ...</td>\n",
              "      <td>Non_R</td>\n",
              "    </tr>\n",
              "    <tr>\n",
              "      <th>1</th>\n",
              "      <td>PLAY &amp; Let The Fun Begin 😱\\nLike + RT + Click ...</td>\n",
              "      <td>Non_R</td>\n",
              "    </tr>\n",
              "    <tr>\n",
              "      <th>2</th>\n",
              "      <td>Papua adalah bagian dari NKRI\\n#DukungOtsusPap...</td>\n",
              "      <td>Non_R</td>\n",
              "    </tr>\n",
              "    <tr>\n",
              "      <th>3</th>\n",
              "      <td>Akar konflik harus dibicarakan.\\nDan dicari ti...</td>\n",
              "      <td>Non_R</td>\n",
              "    </tr>\n",
              "    <tr>\n",
              "      <th>4</th>\n",
              "      <td>\"Saya minta kita semua jadi orang Papua. Artin...</td>\n",
              "      <td>Non_R</td>\n",
              "    </tr>\n",
              "    <tr>\n",
              "      <th>...</th>\n",
              "      <td>...</td>\n",
              "      <td>...</td>\n",
              "    </tr>\n",
              "    <tr>\n",
              "      <th>681</th>\n",
              "      <td>Hitam itu cantik, putih itu cantik, gendut itu...</td>\n",
              "      <td>Non_R</td>\n",
              "    </tr>\n",
              "    <tr>\n",
              "      <th>682</th>\n",
              "      <td>Koleksinyaaaaa kribo smua ik....kaya yg py obs...</td>\n",
              "      <td>Non_R</td>\n",
              "    </tr>\n",
              "    <tr>\n",
              "      <th>683</th>\n",
              "      <td>ALAN KRIBO - Perjalanan Mencari Kayu Hitam Kal...</td>\n",
              "      <td>Non_R</td>\n",
              "    </tr>\n",
              "    <tr>\n",
              "      <th>684</th>\n",
              "      <td>ALAN KRIBO - Perjalanan Mencari Kayu Hitam Kal...</td>\n",
              "      <td>Non_R</td>\n",
              "    </tr>\n",
              "    <tr>\n",
              "      <th>685</th>\n",
              "      <td>Sjauh ini varian kuntilanak emng 2 jenis, mera...</td>\n",
              "      <td>Non_R</td>\n",
              "    </tr>\n",
              "  </tbody>\n",
              "</table>\n",
              "<p>686 rows × 2 columns</p>\n",
              "</div>"
            ],
            "text/plain": [
              "                                                tweets  label\n",
              "0    Trus nih buat yg nanya kenapa gak dibangun di ...  Non_R\n",
              "1    PLAY & Let The Fun Begin 😱\\nLike + RT + Click ...  Non_R\n",
              "2    Papua adalah bagian dari NKRI\\n#DukungOtsusPap...  Non_R\n",
              "3    Akar konflik harus dibicarakan.\\nDan dicari ti...  Non_R\n",
              "4    \"Saya minta kita semua jadi orang Papua. Artin...  Non_R\n",
              "..                                                 ...    ...\n",
              "681  Hitam itu cantik, putih itu cantik, gendut itu...  Non_R\n",
              "682  Koleksinyaaaaa kribo smua ik....kaya yg py obs...  Non_R\n",
              "683  ALAN KRIBO - Perjalanan Mencari Kayu Hitam Kal...  Non_R\n",
              "684  ALAN KRIBO - Perjalanan Mencari Kayu Hitam Kal...  Non_R\n",
              "685  Sjauh ini varian kuntilanak emng 2 jenis, mera...  Non_R\n",
              "\n",
              "[686 rows x 2 columns]"
            ]
          },
          "metadata": {
            "tags": []
          },
          "execution_count": 8
        }
      ]
    },
    {
      "cell_type": "markdown",
      "metadata": {
        "id": "Q8q4FWT1w8kU",
        "colab_type": "text"
      },
      "source": [
        "#Data Preprocessing"
      ]
    },
    {
      "cell_type": "code",
      "metadata": {
        "id": "OKhfHe75w7MK",
        "colab_type": "code",
        "colab": {}
      },
      "source": [
        "def preprocessing(str):\n",
        "    #lowercase string\n",
        "    str = str.lower()\n",
        "    #remove rt, mention and link\n",
        "    str = re.sub('rt |@([a-z]|[0-9]|_|-)*|http([a-z]|[0-9]|/|:|.)*|pic.twitter.com/([a-z]|[0-9])*', '', str)\n",
        "    #remove punctuation and emoticon\n",
        "    str = re.sub('[^a-z0-9]+', ' ', str)\n",
        "    # str = removeStopwords(str)\n",
        "    #remove extra whitespaces\n",
        "    str = ' '.join(str.split())\n",
        "    return str"
      ],
      "execution_count": null,
      "outputs": []
    },
    {
      "cell_type": "code",
      "metadata": {
        "id": "bW28ClscyoBx",
        "colab_type": "code",
        "colab": {}
      },
      "source": [
        "df['preprocessed'] = df.tweets.apply(preprocessing)"
      ],
      "execution_count": null,
      "outputs": []
    },
    {
      "cell_type": "code",
      "metadata": {
        "id": "d5fmIx5CzQDL",
        "colab_type": "code",
        "colab": {
          "base_uri": "https://localhost:8080/",
          "height": 204
        },
        "outputId": "8c530b33-9a77-4572-d1c0-1ce83d126405"
      },
      "source": [
        "df.head()"
      ],
      "execution_count": null,
      "outputs": [
        {
          "output_type": "execute_result",
          "data": {
            "text/html": [
              "<div>\n",
              "<style scoped>\n",
              "    .dataframe tbody tr th:only-of-type {\n",
              "        vertical-align: middle;\n",
              "    }\n",
              "\n",
              "    .dataframe tbody tr th {\n",
              "        vertical-align: top;\n",
              "    }\n",
              "\n",
              "    .dataframe thead th {\n",
              "        text-align: right;\n",
              "    }\n",
              "</style>\n",
              "<table border=\"1\" class=\"dataframe\">\n",
              "  <thead>\n",
              "    <tr style=\"text-align: right;\">\n",
              "      <th></th>\n",
              "      <th>tweets</th>\n",
              "      <th>label</th>\n",
              "      <th>preprocessed</th>\n",
              "    </tr>\n",
              "  </thead>\n",
              "  <tbody>\n",
              "    <tr>\n",
              "      <th>0</th>\n",
              "      <td>Trus nih buat yg nanya kenapa gak dibangun di ...</td>\n",
              "      <td>Non_R</td>\n",
              "      <td>trus nih buat yg nanya kenapa gak dibangun di ...</td>\n",
              "    </tr>\n",
              "    <tr>\n",
              "      <th>1</th>\n",
              "      <td>PLAY &amp; Let The Fun Begin 😱\\nLike + RT + Click ...</td>\n",
              "      <td>Non_R</td>\n",
              "      <td>play let the fun begin like click did you see it</td>\n",
              "    </tr>\n",
              "    <tr>\n",
              "      <th>2</th>\n",
              "      <td>Papua adalah bagian dari NKRI\\n#DukungOtsusPap...</td>\n",
              "      <td>Non_R</td>\n",
              "      <td>papua adalah bagian dari nkri dukungotsuspapua...</td>\n",
              "    </tr>\n",
              "    <tr>\n",
              "      <th>3</th>\n",
              "      <td>Akar konflik harus dibicarakan.\\nDan dicari ti...</td>\n",
              "      <td>Non_R</td>\n",
              "      <td>akar konflik harus dibicarakan dan dicari titi...</td>\n",
              "    </tr>\n",
              "    <tr>\n",
              "      <th>4</th>\n",
              "      <td>\"Saya minta kita semua jadi orang Papua. Artin...</td>\n",
              "      <td>Non_R</td>\n",
              "      <td>saya minta kita semua jadi orang papua artinya...</td>\n",
              "    </tr>\n",
              "  </tbody>\n",
              "</table>\n",
              "</div>"
            ],
            "text/plain": [
              "                                              tweets  ...                                       preprocessed\n",
              "0  Trus nih buat yg nanya kenapa gak dibangun di ...  ...  trus nih buat yg nanya kenapa gak dibangun di ...\n",
              "1  PLAY & Let The Fun Begin 😱\\nLike + RT + Click ...  ...   play let the fun begin like click did you see it\n",
              "2  Papua adalah bagian dari NKRI\\n#DukungOtsusPap...  ...  papua adalah bagian dari nkri dukungotsuspapua...\n",
              "3  Akar konflik harus dibicarakan.\\nDan dicari ti...  ...  akar konflik harus dibicarakan dan dicari titi...\n",
              "4  \"Saya minta kita semua jadi orang Papua. Artin...  ...  saya minta kita semua jadi orang papua artinya...\n",
              "\n",
              "[5 rows x 3 columns]"
            ]
          },
          "metadata": {
            "tags": []
          },
          "execution_count": 10
        }
      ]
    },
    {
      "cell_type": "markdown",
      "metadata": {
        "id": "KitdwDUxs0ti",
        "colab_type": "text"
      },
      "source": [
        "#Data Analysis\n"
      ]
    },
    {
      "cell_type": "code",
      "metadata": {
        "id": "UnPGyKSw4dcR",
        "colab_type": "code",
        "colab": {
          "base_uri": "https://localhost:8080/",
          "height": 275
        },
        "outputId": "af75d46a-0bc1-4d47-aeea-72b0a32b5b89"
      },
      "source": [
        "import numpy as np\n",
        "\n",
        "def commonWords(df_tweets):\n",
        "  # split texts by whitespace and turn them to array\n",
        "  tweets = df_tweets.str.split(\" \").tolist()\n",
        "\n",
        "  # flatten the 2d array to 1d array\n",
        "  tweets = list(chain.from_iterable(tweets))\n",
        "\n",
        "  # count most common 20 racist words\n",
        "  return zip(*Counter(tweets).most_common(10))\n",
        "  # print(common_words)\n",
        "\n",
        "# generate wordcloud racist\n",
        "labels, values = commonWords(df[df['label'] == 'R'].preprocessed)\n",
        "\n",
        "indexes = np.arange(len(labels))\n",
        "width = 1\n",
        "\n",
        "plt.bar(indexes, values, 0.75)\n",
        "plt.xticks(indexes, labels)\n",
        "plt.tight_layout(pad = 3)\n",
        "plt.title('10 Most Common Words in Racist Tweets')\n",
        "plt.show()"
      ],
      "execution_count": null,
      "outputs": [
        {
          "output_type": "display_data",
          "data": {
            "image/png": "[encoded data removed]",
            "text/plain": [
              "<Figure size 432x288 with 1 Axes>"
            ]
          },
          "metadata": {
            "tags": [],
            "needs_background": "light"
          }
        }
      ]
    },
    {
      "cell_type": "code",
      "metadata": {
        "id": "dWTDlqJauCJS",
        "colab_type": "code",
        "colab": {
          "base_uri": "https://localhost:8080/",
          "height": 354
        },
        "outputId": "9b216799-b0e7-4103-8f2d-8e26e241b134"
      },
      "source": [
        "df_R = df[df.label == 'R']\n",
        "df_NonR = df[df.label == 'Non_R']\n",
        "\n",
        "label_count = df['label'].value_counts()\n",
        "print('Class Non-Racist :', label_count[0])\n",
        "print('Class Racist     :', label_count[1])\n",
        "label_count.plot(kind='bar', title='Count (label)')"
      ],
      "execution_count": null,
      "outputs": [
        {
          "output_type": "stream",
          "text": [
            "Class Non-Racist : 511\n",
            "Class Racist     : 175\n"
          ],
          "name": "stdout"
        },
        {
          "output_type": "execute_result",
          "data": {
            "text/plain": [
              "<matplotlib.axes._subplots.AxesSubplot at 0x7fc9d4582eb8>"
            ]
          },
          "metadata": {
            "tags": []
          },
          "execution_count": 12
        },
        {
          "output_type": "display_data",
          "data": {
            "image/png": "[encoded data removed]",
            "text/plain": [
              "<Figure size 432x288 with 1 Axes>"
            ]
          },
          "metadata": {
            "tags": [],
            "needs_background": "light"
          }
        }
      ]
    },
    {
      "cell_type": "markdown",
      "metadata": {
        "id": "gugElTWa3A2G",
        "colab_type": "text"
      },
      "source": [
        "#Balanced Data Preparation"
      ]
    },
    {
      "cell_type": "code",
      "metadata": {
        "id": "qKKp3cs3vtFE",
        "colab_type": "code",
        "colab": {
          "base_uri": "https://localhost:8080/",
          "height": 354
        },
        "outputId": "d4857b4f-70f4-4088-fe5e-bc4049e018e1"
      },
      "source": [
        "df_NonR_under = df_NonR.sample(label_count[1])\n",
        "df_balanced = pd.concat([df_NonR_under, df_R], axis=0)\n",
        "\n",
        "label_count_balanced = df_balanced['label'].value_counts()\n",
        "print('Class Non-Racist :', label_count_balanced[0])\n",
        "print('Class Racist     :', label_count_balanced[1])\n",
        "label_count_balanced.plot(kind='bar', title='Count (label)')"
      ],
      "execution_count": null,
      "outputs": [
        {
          "output_type": "stream",
          "text": [
            "Class Non-Racist : 175\n",
            "Class Racist     : 175\n"
          ],
          "name": "stdout"
        },
        {
          "output_type": "execute_result",
          "data": {
            "text/plain": [
              "<matplotlib.axes._subplots.AxesSubplot at 0x7fc9d3fe52e8>"
            ]
          },
          "metadata": {
            "tags": []
          },
          "execution_count": 14
        },
        {
          "output_type": "display_data",
          "data": {
            "image/png": "[encoded data removed]",
            "text/plain": [
              "<Figure size 432x288 with 1 Axes>"
            ]
          },
          "metadata": {
            "tags": [],
            "needs_background": "light"
          }
        }
      ]
    },
    {
      "cell_type": "code",
      "metadata": {
        "id": "wAZ9pdsy2CkJ",
        "colab_type": "code",
        "colab": {
          "base_uri": "https://localhost:8080/",
          "height": 419
        },
        "outputId": "f4de9515-5c30-40ff-f3c4-71e42974283e"
      },
      "source": [
        "df_balanced"
      ],
      "execution_count": null,
      "outputs": [
        {
          "output_type": "execute_result",
          "data": {
            "text/html": [
              "<div>\n",
              "<style scoped>\n",
              "    .dataframe tbody tr th:only-of-type {\n",
              "        vertical-align: middle;\n",
              "    }\n",
              "\n",
              "    .dataframe tbody tr th {\n",
              "        vertical-align: top;\n",
              "    }\n",
              "\n",
              "    .dataframe thead th {\n",
              "        text-align: right;\n",
              "    }\n",
              "</style>\n",
              "<table border=\"1\" class=\"dataframe\">\n",
              "  <thead>\n",
              "    <tr style=\"text-align: right;\">\n",
              "      <th></th>\n",
              "      <th>tweets</th>\n",
              "      <th>label</th>\n",
              "      <th>preprocessed</th>\n",
              "    </tr>\n",
              "  </thead>\n",
              "  <tbody>\n",
              "    <tr>\n",
              "      <th>623</th>\n",
              "      <td>Baju merah @sinfulscint \\nBaju hijau @crescent...</td>\n",
              "      <td>Non_R</td>\n",
              "      <td>baju merah baju hijau baju hitam kribo baju hi...</td>\n",
              "    </tr>\n",
              "    <tr>\n",
              "      <th>334</th>\n",
              "      <td>abang jnt ni rumah cina pun dia bagi salam hah...</td>\n",
              "      <td>Non_R</td>\n",
              "      <td>abang jnt ni rumah cina pun dia bagi salam hah...</td>\n",
              "    </tr>\n",
              "    <tr>\n",
              "      <th>638</th>\n",
              "      <td>Nenek.\\n\\nSebut saja namanya ba'an,orang nya g...</td>\n",
              "      <td>Non_R</td>\n",
              "      <td>nenek sebut saja namanya ba an orang nya gante...</td>\n",
              "    </tr>\n",
              "    <tr>\n",
              "      <th>594</th>\n",
              "      <td>NKRI harga mati, silahkan panggil saya cebong,...</td>\n",
              "      <td>Non_R</td>\n",
              "      <td>nkri harga mati silahkan panggil saya cebong s...</td>\n",
              "    </tr>\n",
              "    <tr>\n",
              "      <th>405</th>\n",
              "      <td>Kalau Cina itu didapati salah, masuk jail sela...</td>\n",
              "      <td>Non_R</td>\n",
              "      <td>kalau cina itu didapati salah masuk jail selam...</td>\n",
              "    </tr>\n",
              "    <tr>\n",
              "      <th>...</th>\n",
              "      <td>...</td>\n",
              "      <td>...</td>\n",
              "      <td>...</td>\n",
              "    </tr>\n",
              "    <tr>\n",
              "      <th>580</th>\n",
              "      <td>Sangattt...layakk....abiss...pdip sarang para ...</td>\n",
              "      <td>R</td>\n",
              "      <td>sangattt layakk abiss pdip sarang para korupto...</td>\n",
              "    </tr>\n",
              "    <tr>\n",
              "      <th>585</th>\n",
              "      <td>Anjing antek penjajah kayak elu pastilah punya...</td>\n",
              "      <td>R</td>\n",
              "      <td>anjing antek penjajah kayak elu pastilah punya...</td>\n",
              "    </tr>\n",
              "    <tr>\n",
              "      <th>605</th>\n",
              "      <td>dinas dukcapil  california ini dasar antek asi...</td>\n",
              "      <td>R</td>\n",
              "      <td>dinas dukcapil california ini dasar antek asin...</td>\n",
              "    </tr>\n",
              "    <tr>\n",
              "      <th>606</th>\n",
              "      <td>arab beda ama cina dan keturunan asing yg lain...</td>\n",
              "      <td>R</td>\n",
              "      <td>arab beda ama cina dan keturunan asing yg lain...</td>\n",
              "    </tr>\n",
              "    <tr>\n",
              "      <th>627</th>\n",
              "      <td>aku: jelas beda lah munaroh! lu banyangin di I...</td>\n",
              "      <td>R</td>\n",
              "      <td>aku jelas beda lah munaroh lu banyangin di ind...</td>\n",
              "    </tr>\n",
              "  </tbody>\n",
              "</table>\n",
              "<p>350 rows × 3 columns</p>\n",
              "</div>"
            ],
            "text/plain": [
              "                                                tweets  ...                                       preprocessed\n",
              "623  Baju merah @sinfulscint \\nBaju hijau @crescent...  ...  baju merah baju hijau baju hitam kribo baju hi...\n",
              "334  abang jnt ni rumah cina pun dia bagi salam hah...  ...  abang jnt ni rumah cina pun dia bagi salam hah...\n",
              "638  Nenek.\\n\\nSebut saja namanya ba'an,orang nya g...  ...  nenek sebut saja namanya ba an orang nya gante...\n",
              "594  NKRI harga mati, silahkan panggil saya cebong,...  ...  nkri harga mati silahkan panggil saya cebong s...\n",
              "405  Kalau Cina itu didapati salah, masuk jail sela...  ...  kalau cina itu didapati salah masuk jail selam...\n",
              "..                                                 ...  ...                                                ...\n",
              "580  Sangattt...layakk....abiss...pdip sarang para ...  ...  sangattt layakk abiss pdip sarang para korupto...\n",
              "585  Anjing antek penjajah kayak elu pastilah punya...  ...  anjing antek penjajah kayak elu pastilah punya...\n",
              "605  dinas dukcapil  california ini dasar antek asi...  ...  dinas dukcapil california ini dasar antek asin...\n",
              "606  arab beda ama cina dan keturunan asing yg lain...  ...  arab beda ama cina dan keturunan asing yg lain...\n",
              "627  aku: jelas beda lah munaroh! lu banyangin di I...  ...  aku jelas beda lah munaroh lu banyangin di ind...\n",
              "\n",
              "[350 rows x 3 columns]"
            ]
          },
          "metadata": {
            "tags": []
          },
          "execution_count": 15
        }
      ]
    },
    {
      "cell_type": "markdown",
      "metadata": {
        "id": "wjhZ7f9vQOxW",
        "colab_type": "text"
      },
      "source": [
        "#Classification with LSTM"
      ]
    },
    {
      "cell_type": "markdown",
      "metadata": {
        "id": "iYiRotki81Co",
        "colab_type": "text"
      },
      "source": [
        "##Global Parameter"
      ]
    },
    {
      "cell_type": "code",
      "metadata": {
        "id": "F_hPX3818k-p",
        "colab_type": "code",
        "colab": {}
      },
      "source": [
        "# Hyperparameter\n",
        "# The maximum number of words to be used. (most frequent)\n",
        "MAX_NB_WORDS = 50000\n",
        "\n",
        "# Max number of words in each complaint.\n",
        "MAX_SEQUENCE_LENGTH = 250\n",
        "\n",
        "# This is fixed.\n",
        "EMBEDDING_DIM = 100\n",
        "\n",
        "# For training the data\n",
        "epochs = 8\n",
        "batch_size = 64"
      ],
      "execution_count": null,
      "outputs": []
    },
    {
      "cell_type": "markdown",
      "metadata": {
        "id": "QfLJCX_d8xt7",
        "colab_type": "text"
      },
      "source": [
        "##Balanced Data"
      ]
    },
    {
      "cell_type": "code",
      "metadata": {
        "id": "lEVZKdYsQNk9",
        "colab_type": "code",
        "colab": {
          "base_uri": "https://localhost:8080/",
          "height": 34
        },
        "outputId": "b2b6eba8-9d8d-471a-b9d7-e28d1ab579f9"
      },
      "source": [
        "tokenizer = Tokenizer(num_words=MAX_NB_WORDS, filters='!\"#$%&()*+,-./:;<=>?@[\\]^_`{|}~', lower=True)\n",
        "tokenizer.fit_on_texts(df_balanced['preprocessed'].values)\n",
        "word_index = tokenizer.word_index\n",
        "print('Found %s unique tokens.' % len(word_index))"
      ],
      "execution_count": null,
      "outputs": [
        {
          "output_type": "stream",
          "text": [
            "Found 2774 unique tokens.\n"
          ],
          "name": "stdout"
        }
      ]
    },
    {
      "cell_type": "code",
      "metadata": {
        "id": "5SxwmvVKZUM4",
        "colab_type": "code",
        "colab": {
          "base_uri": "https://localhost:8080/",
          "height": 34
        },
        "outputId": "52dc55d5-9309-49c6-db34-20576dd95ac1"
      },
      "source": [
        "X = tokenizer.texts_to_sequences(df_balanced['preprocessed'].values)\n",
        "X = pad_sequences(X, maxlen=MAX_SEQUENCE_LENGTH)\n",
        "print('Shape of data tensor:', X.shape)"
      ],
      "execution_count": null,
      "outputs": [
        {
          "output_type": "stream",
          "text": [
            "Shape of data tensor: (350, 250)\n"
          ],
          "name": "stdout"
        }
      ]
    },
    {
      "cell_type": "code",
      "metadata": {
        "id": "KfIiPp2pZcLC",
        "colab_type": "code",
        "colab": {
          "base_uri": "https://localhost:8080/",
          "height": 34
        },
        "outputId": "db5a0c66-ce6b-4d2c-ca69-c6014217c7f8"
      },
      "source": [
        "Y = pd.get_dummies(df_balanced['label']).values\n",
        "print('Shape of label tensor:', Y.shape)"
      ],
      "execution_count": null,
      "outputs": [
        {
          "output_type": "stream",
          "text": [
            "Shape of label tensor: (350, 2)\n"
          ],
          "name": "stdout"
        }
      ]
    },
    {
      "cell_type": "code",
      "metadata": {
        "id": "GLzcerTZZlkk",
        "colab_type": "code",
        "colab": {
          "base_uri": "https://localhost:8080/",
          "height": 51
        },
        "outputId": "66d67794-dbad-443a-c6a8-8a833f958b94"
      },
      "source": [
        "X_train, X_test, Y_train, Y_test = train_test_split(X,Y, test_size = 0.10, random_state = 8)\n",
        "print(X_train.shape,Y_train.shape)\n",
        "print(X_test.shape,Y_test.shape)"
      ],
      "execution_count": null,
      "outputs": [
        {
          "output_type": "stream",
          "text": [
            "(315, 250) (315, 2)\n",
            "(35, 250) (35, 2)\n"
          ],
          "name": "stdout"
        }
      ]
    },
    {
      "cell_type": "code",
      "metadata": {
        "id": "j1qOgESQZqiV",
        "colab_type": "code",
        "colab": {
          "base_uri": "https://localhost:8080/",
          "height": 289
        },
        "outputId": "96ea574a-68cf-47ff-9676-4c6522a79e96"
      },
      "source": [
        "model = Sequential()\n",
        "model.add(Embedding(MAX_NB_WORDS, EMBEDDING_DIM, input_length=X_train.shape[1]))\n",
        "model.add(SpatialDropout1D(0.2))\n",
        "model.add(LSTM(100, dropout=0.2, recurrent_dropout=0.2))\n",
        "model.add(Dense(2, activation='softmax'))\n",
        "model.compile(loss='categorical_crossentropy', optimizer='adam', metrics=['accuracy'])\n",
        "\n",
        "history = model.fit(X_train, Y_train, epochs=epochs, batch_size=batch_size,validation_split=0.1,callbacks=[EarlyStopping(monitor='val_loss', patience=3, min_delta=0.0001)])"
      ],
      "execution_count": null,
      "outputs": [
        {
          "output_type": "stream",
          "text": [
            "Epoch 1/8\n",
            "5/5 [==============================] - 3s 622ms/step - loss: 0.6933 - accuracy: 0.5018 - val_loss: 0.6946 - val_accuracy: 0.4375\n",
            "Epoch 2/8\n",
            "5/5 [==============================] - 3s 562ms/step - loss: 0.6807 - accuracy: 0.5760 - val_loss: 0.6878 - val_accuracy: 0.5625\n",
            "Epoch 3/8\n",
            "5/5 [==============================] - 3s 559ms/step - loss: 0.6626 - accuracy: 0.7633 - val_loss: 0.6771 - val_accuracy: 0.5938\n",
            "Epoch 4/8\n",
            "5/5 [==============================] - 3s 554ms/step - loss: 0.6205 - accuracy: 0.8622 - val_loss: 0.6548 - val_accuracy: 0.5938\n",
            "Epoch 5/8\n",
            "5/5 [==============================] - 3s 565ms/step - loss: 0.5055 - accuracy: 0.8622 - val_loss: 0.5656 - val_accuracy: 0.7188\n",
            "Epoch 6/8\n",
            "5/5 [==============================] - 3s 560ms/step - loss: 0.3488 - accuracy: 0.9293 - val_loss: 0.5176 - val_accuracy: 0.6562\n",
            "Epoch 7/8\n",
            "5/5 [==============================] - 3s 560ms/step - loss: 0.2266 - accuracy: 0.9611 - val_loss: 0.4430 - val_accuracy: 0.7812\n",
            "Epoch 8/8\n",
            "5/5 [==============================] - 3s 562ms/step - loss: 0.1553 - accuracy: 0.9823 - val_loss: 0.3762 - val_accuracy: 0.8438\n"
          ],
          "name": "stdout"
        }
      ]
    },
    {
      "cell_type": "code",
      "metadata": {
        "id": "huXvcuAYnSVJ",
        "colab_type": "code",
        "colab": {
          "base_uri": "https://localhost:8080/",
          "height": 281
        },
        "outputId": "7f4ed25f-2214-4bf7-8b5c-a6d7eadcf5df"
      },
      "source": [
        "plt.title('model train vs validation loss (balanced data)')\n",
        "plt.plot(history.history['loss'], label='train')\n",
        "plt.plot(history.history['val_loss'], label='val')\n",
        "plt.legend()\n",
        "plt.show()"
      ],
      "execution_count": null,
      "outputs": [
        {
          "output_type": "display_data",
          "data": {
            "image/png": "[encoded data removed]",
            "text/plain": [
              "<Figure size 432x288 with 1 Axes>"
            ]
          },
          "metadata": {
            "tags": [],
            "needs_background": "light"
          }
        }
      ]
    },
    {
      "cell_type": "code",
      "metadata": {
        "id": "XO5ZAkehZzK1",
        "colab_type": "code",
        "colab": {
          "base_uri": "https://localhost:8080/",
          "height": 85
        },
        "outputId": "7affd25c-7ad6-4511-b5cd-8ae3b04b819c"
      },
      "source": [
        "accr = model.evaluate(X_test, Y_test)\n",
        "print('Test set\\n  Loss: {:0.3f}\\n  Accuracy: {:0.3f}'.format(accr[0],accr[1]))"
      ],
      "execution_count": null,
      "outputs": [
        {
          "output_type": "stream",
          "text": [
            "2/2 [==============================] - 0s 18ms/step - loss: 0.4039 - accuracy: 0.8286\n",
            "Test set\n",
            "  Loss: 0.404\n",
            "  Accuracy: 0.829\n"
          ],
          "name": "stdout"
        }
      ]
    },
    {
      "cell_type": "code",
      "metadata": {
        "id": "LOqJi8ROj4kY",
        "colab_type": "code",
        "colab": {
          "base_uri": "https://localhost:8080/",
          "height": 136
        },
        "outputId": "bd73f9e2-564f-4468-9de8-c9441f1a8284"
      },
      "source": [
        "X_test"
      ],
      "execution_count": null,
      "outputs": [
        {
          "output_type": "execute_result",
          "data": {
            "text/plain": [
              "array([[   0,    0,    0, ...,  106, 1302,  436],\n",
              "       [   0,    0,    0, ..., 1010, 1011, 1012],\n",
              "       [   0,    0,    0, ..., 1133, 1134, 1135],\n",
              "       ...,\n",
              "       [   0,    0,    0, ...,   10,    1, 2130],\n",
              "       [   0,    0,    0, ..., 1791,    3,    4],\n",
              "       [   0,    0,    0, ...,  288,   13, 2774]], dtype=int32)"
            ]
          },
          "metadata": {
            "tags": []
          },
          "execution_count": 32
        }
      ]
    },
    {
      "cell_type": "code",
      "metadata": {
        "id": "dkDEz7WArvg8",
        "colab_type": "code",
        "colab": {
          "base_uri": "https://localhost:8080/",
          "height": 34
        },
        "outputId": "9160ea24-fbf3-44b0-b328-427604e6a74b"
      },
      "source": [
        "accr"
      ],
      "execution_count": null,
      "outputs": [
        {
          "output_type": "execute_result",
          "data": {
            "text/plain": [
              "[0.33430910110473633, 0.9142857193946838]"
            ]
          },
          "metadata": {
            "tags": []
          },
          "execution_count": 24
        }
      ]
    },
    {
      "cell_type": "code",
      "metadata": {
        "id": "Tqgwg1StnX4C",
        "colab_type": "code",
        "colab": {
          "base_uri": "https://localhost:8080/",
          "height": 281
        },
        "outputId": "ec9818ba-2ff4-412b-d8ea-9458cce6b4b8"
      },
      "source": [
        "plt.title('Accuracy (balanced data)')\n",
        "plt.plot(history.history['accuracy'], label='train')\n",
        "plt.plot(history.history['val_accuracy'], label='test')\n",
        "plt.legend()\n",
        "plt.show();"
      ],
      "execution_count": null,
      "outputs": [
        {
          "output_type": "display_data",
          "data": {
            "image/png": "[encoded data removed]",
            "text/plain": [
              "<Figure size 432x288 with 1 Axes>"
            ]
          },
          "metadata": {
            "tags": [],
            "needs_background": "light"
          }
        }
      ]
    },
    {
      "cell_type": "markdown",
      "metadata": {
        "id": "aph57ROL5wps",
        "colab_type": "text"
      },
      "source": [
        "##Unbalanced Data"
      ]
    },
    {
      "cell_type": "code",
      "metadata": {
        "id": "_YoLICTr5vOR",
        "colab_type": "code",
        "colab": {
          "base_uri": "https://localhost:8080/",
          "height": 34
        },
        "outputId": "6eaa1b58-7a8e-46b3-ad12-d7a3eae49cac"
      },
      "source": [
        "tokenizer_unbalanced = Tokenizer(num_words=MAX_NB_WORDS, filters='!\"#$%&()*+,-./:;<=>?@[\\]^_`{|}~', lower=True)\n",
        "tokenizer_unbalanced.fit_on_texts(df['preprocessed'].values)\n",
        "word_index_unbalanced = tokenizer_unbalanced.word_index\n",
        "print('Found %s unique tokens.' % len(word_index_unbalanced))"
      ],
      "execution_count": null,
      "outputs": [
        {
          "output_type": "stream",
          "text": [
            "Found 4545 unique tokens.\n"
          ],
          "name": "stdout"
        }
      ]
    },
    {
      "cell_type": "code",
      "metadata": {
        "id": "cNsNPAil6ZIq",
        "colab_type": "code",
        "colab": {
          "base_uri": "https://localhost:8080/",
          "height": 34
        },
        "outputId": "1db6fafa-3bbc-4142-8534-c58fb1962b6e"
      },
      "source": [
        "X_unbalanced = tokenizer_unbalanced.texts_to_sequences(df['preprocessed'].values)\n",
        "X_unbalanced = pad_sequences(X_unbalanced, maxlen=MAX_SEQUENCE_LENGTH)\n",
        "print('Shape of data tensor:', X_unbalanced.shape)"
      ],
      "execution_count": null,
      "outputs": [
        {
          "output_type": "stream",
          "text": [
            "Shape of data tensor: (686, 250)\n"
          ],
          "name": "stdout"
        }
      ]
    },
    {
      "cell_type": "code",
      "metadata": {
        "id": "mVYkt6KA7GvR",
        "colab_type": "code",
        "colab": {
          "base_uri": "https://localhost:8080/",
          "height": 34
        },
        "outputId": "67fbab6a-9a80-426e-b152-be775201995b"
      },
      "source": [
        "Y_unbalanced = pd.get_dummies(df['label']).values\n",
        "print('Shape of label tensor:', Y_unbalanced.shape)"
      ],
      "execution_count": null,
      "outputs": [
        {
          "output_type": "stream",
          "text": [
            "Shape of label tensor: (686, 2)\n"
          ],
          "name": "stdout"
        }
      ]
    },
    {
      "cell_type": "code",
      "metadata": {
        "id": "wP1CHfPN7P20",
        "colab_type": "code",
        "colab": {
          "base_uri": "https://localhost:8080/",
          "height": 51
        },
        "outputId": "5f3ebc4b-6e01-4d59-a4e2-e222a3396b2e"
      },
      "source": [
        "X_train_unbalanced, X_test_unbalanced, Y_train_unbalanced, Y_test_unbalanced = train_test_split(X_unbalanced,Y_unbalanced, test_size = 0.10, random_state = 8)\n",
        "print(X_train_unbalanced.shape,Y_train_unbalanced.shape)\n",
        "print(X_test_unbalanced.shape,Y_test_unbalanced.shape)"
      ],
      "execution_count": null,
      "outputs": [
        {
          "output_type": "stream",
          "text": [
            "(617, 250) (617, 2)\n",
            "(69, 250) (69, 2)\n"
          ],
          "name": "stdout"
        }
      ]
    },
    {
      "cell_type": "code",
      "metadata": {
        "id": "wAk7SXrb7dO5",
        "colab_type": "code",
        "colab": {
          "base_uri": "https://localhost:8080/",
          "height": 289
        },
        "outputId": "2bfc039d-453b-4ac4-c01e-1f693c23d76d"
      },
      "source": [
        "model_unbalanced = Sequential()\n",
        "model_unbalanced.add(Embedding(MAX_NB_WORDS, EMBEDDING_DIM, input_length=X_train_unbalanced.shape[1]))\n",
        "model_unbalanced.add(SpatialDropout1D(0.2))\n",
        "model_unbalanced.add(LSTM(100, dropout=0.2, recurrent_dropout=0.2))\n",
        "model_unbalanced.add(Dense(2, activation='softmax'))\n",
        "model_unbalanced.compile(loss='categorical_crossentropy', optimizer='adam', metrics=['accuracy'])\n",
        "\n",
        "history_unbalanced = model_unbalanced.fit(X_train_unbalanced, \n",
        "                                          Y_train_unbalanced, \n",
        "                                          epochs=epochs, \n",
        "                                          batch_size=batch_size,\n",
        "                                          validation_split=0.1,\n",
        "                                          callbacks=[EarlyStopping(monitor='val_loss', patience=3, min_delta=0.0001)])"
      ],
      "execution_count": null,
      "outputs": [
        {
          "output_type": "stream",
          "text": [
            "Epoch 1/8\n",
            "9/9 [==============================] - 6s 710ms/step - loss: 0.6550 - accuracy: 0.7333 - val_loss: 0.6522 - val_accuracy: 0.6452\n",
            "Epoch 2/8\n",
            "9/9 [==============================] - 6s 671ms/step - loss: 0.5586 - accuracy: 0.7495 - val_loss: 0.6460 - val_accuracy: 0.6452\n",
            "Epoch 3/8\n",
            "9/9 [==============================] - 6s 693ms/step - loss: 0.5165 - accuracy: 0.7495 - val_loss: 0.6156 - val_accuracy: 0.6452\n",
            "Epoch 4/8\n",
            "9/9 [==============================] - 6s 668ms/step - loss: 0.4461 - accuracy: 0.7604 - val_loss: 0.6173 - val_accuracy: 0.6452\n",
            "Epoch 5/8\n",
            "9/9 [==============================] - 6s 672ms/step - loss: 0.3173 - accuracy: 0.8324 - val_loss: 0.5195 - val_accuracy: 0.7258\n",
            "Epoch 6/8\n",
            "9/9 [==============================] - 6s 666ms/step - loss: 0.2497 - accuracy: 0.9441 - val_loss: 0.4627 - val_accuracy: 0.7742\n",
            "Epoch 7/8\n",
            "9/9 [==============================] - 6s 671ms/step - loss: 0.2154 - accuracy: 0.9477 - val_loss: 0.4908 - val_accuracy: 0.7258\n",
            "Epoch 8/8\n",
            "9/9 [==============================] - 6s 670ms/step - loss: 0.1823 - accuracy: 0.9676 - val_loss: 0.4985 - val_accuracy: 0.7419\n"
          ],
          "name": "stdout"
        }
      ]
    },
    {
      "cell_type": "code",
      "metadata": {
        "id": "Mr6yUPsZnajF",
        "colab_type": "code",
        "colab": {
          "base_uri": "https://localhost:8080/",
          "height": 281
        },
        "outputId": "6a045d45-900d-4557-a40b-4a9669cdc56f"
      },
      "source": [
        "plt.title('model train vs validation loss (imbalanced data)')\n",
        "plt.plot(history_unbalanced.history['loss'], label='train')\n",
        "plt.plot(history_unbalanced.history['val_loss'], label='test')\n",
        "plt.legend()\n",
        "plt.show();"
      ],
      "execution_count": null,
      "outputs": [
        {
          "output_type": "display_data",
          "data": {
            "image/png": "[encoded data removed]",
            "text/plain": [
              "<Figure size 432x288 with 1 Axes>"
            ]
          },
          "metadata": {
            "tags": [],
            "needs_background": "light"
          }
        }
      ]
    },
    {
      "cell_type": "code",
      "metadata": {
        "id": "MaUYlCdZ77TR",
        "colab_type": "code",
        "colab": {
          "base_uri": "https://localhost:8080/",
          "height": 85
        },
        "outputId": "fa8571d0-3c46-4cd8-89c5-949c77861eef"
      },
      "source": [
        "accr_unbalanced = model_unbalanced.evaluate(X_test_unbalanced, Y_test_unbalanced)\n",
        "print('Test set\\n  Loss: {:0.3f}\\n  Accuracy: {:0.3f}'.format(accr_unbalanced[0],accr_unbalanced[1]))"
      ],
      "execution_count": null,
      "outputs": [
        {
          "output_type": "stream",
          "text": [
            "3/3 [==============================] - 0s 37ms/step - loss: 0.3664 - accuracy: 0.8696\n",
            "Test set\n",
            "  Loss: 0.366\n",
            "  Accuracy: 0.870\n"
          ],
          "name": "stdout"
        }
      ]
    },
    {
      "cell_type": "code",
      "metadata": {
        "id": "F83JHnPknpjf",
        "colab_type": "code",
        "colab": {
          "base_uri": "https://localhost:8080/",
          "height": 281
        },
        "outputId": "f64f8742-02e5-4bcb-fceb-caa99f703f55"
      },
      "source": [
        "plt.title('Accuracy (imbalanced data)')\n",
        "plt.plot(history_unbalanced.history['accuracy'], label='train')\n",
        "plt.plot(history_unbalanced.history['val_accuracy'], label='test')\n",
        "plt.legend()\n",
        "plt.show();"
      ],
      "execution_count": null,
      "outputs": [
        {
          "output_type": "display_data",
          "data": {
            "image/png": "[encoded data removed]",
            "text/plain": [
              "<Figure size 432x288 with 1 Axes>"
            ]
          },
          "metadata": {
            "tags": [],
            "needs_background": "light"
          }
        }
      ]
    },
    {
      "cell_type": "markdown",
      "metadata": {
        "id": "WA2HA7db4DAi",
        "colab_type": "text"
      },
      "source": [
        "#NOT USED"
      ]
    },
    {
      "cell_type": "code",
      "metadata": {
        "id": "QxYVSa3r3B_1",
        "colab_type": "code",
        "colab": {}
      },
      "source": [
        "# def generateWordCloud(df_tweets):\n",
        "#   # split texts by whitespace and turn them to array\n",
        "#   tweets = df_tweets.str.split(\" \").tolist()\n",
        "\n",
        "#   # flatten the 2d array to 1d array\n",
        "#   tweets = list(chain.from_iterable(tweets))\n",
        "\n",
        "#   # count most common 20 racist words\n",
        "#   common_words = dict(Counter(tweets).most_common(20))\n",
        "#   # print(common_words)\n",
        "\n",
        "#   # set wordcloud values\n",
        "#   wordcloud = WordCloud(background_color=\"white\",width=1500,height=1500,relative_scaling=0.5,min_font_size=10).generate_from_frequencies(common_words)\n",
        "\n",
        "#   return wordcloud"
      ],
      "execution_count": null,
      "outputs": []
    },
    {
      "cell_type": "code",
      "metadata": {
        "id": "ajXzxoCm3D67",
        "colab_type": "code",
        "colab": {}
      },
      "source": [
        "# # generate wordcloud racist\n",
        "# wc_R = generateWordCloud(df[df['label'] == 'R']['preprocessed'])\n",
        "\n",
        "# # plot the WordCloud image                        \n",
        "# plt.figure(figsize = (6, 6), facecolor = None) \n",
        "# plt.imshow(wc_R) \n",
        "# plt.axis(\"off\") \n",
        "# plt.tight_layout(pad = 0) "
      ],
      "execution_count": null,
      "outputs": []
    },
    {
      "cell_type": "code",
      "metadata": {
        "id": "cq2k5L5p3Xjx",
        "colab_type": "code",
        "colab": {}
      },
      "source": [
        "# # generate wordcloud non-racist\n",
        "# wc_NonR = generateWordCloud(df[df['label'] == 'Non_R']['preprocessed'])\n",
        "\n",
        "# # plot the WordCloud image                        \n",
        "# plt.figure(figsize = (6, 6), facecolor = None) \n",
        "# plt.imshow(wc_NonR) \n",
        "# plt.axis(\"off\") \n",
        "# plt.tight_layout(pad = 0) "
      ],
      "execution_count": null,
      "outputs": []
    },
    {
      "cell_type": "code",
      "metadata": {
        "id": "Y5VIQkuG9jy3",
        "colab_type": "code",
        "colab": {}
      },
      "source": [
        "# # generate wordcloud racist in balanced data\n",
        "# wc_R_balanced = generateWordCloud(df_balanced[df_balanced['label'] == 'R']['preprocessed'])\n",
        "\n",
        "# # plot the WordCloud image                        \n",
        "# plt.figure(figsize = (6, 6), facecolor = None) \n",
        "# plt.imshow(wc_R_balanced) \n",
        "# plt.axis(\"off\") \n",
        "# plt.tight_layout(pad = 0) "
      ],
      "execution_count": null,
      "outputs": []
    },
    {
      "cell_type": "code",
      "metadata": {
        "id": "MuazJOvT9y5g",
        "colab_type": "code",
        "colab": {}
      },
      "source": [
        "# # generate wordcloud non-racist in balanced data\n",
        "# wc_NonR_balanced = generateWordCloud(df_balanced[df_balanced['label'] == 'Non_R']['preprocessed'])\n",
        "\n",
        "# # plot the WordCloud image                        \n",
        "# plt.figure(figsize = (6, 6), facecolor = None) \n",
        "# plt.imshow(wc_NonR_balanced) \n",
        "# plt.axis(\"off\") \n",
        "# plt.tight_layout(pad = 0) "
      ],
      "execution_count": null,
      "outputs": []
    },
    {
      "cell_type": "code",
      "metadata": {
        "id": "XjGt3Ksd4wV6",
        "colab_type": "code",
        "colab": {}
      },
      "source": [
        "# from sklearn.ensemble import RandomForestClassifier\n",
        "# from sklearn import svm\n",
        "# from sklearn.linear_model import LogisticRegression\n",
        "# from sklearn.neighbors import KNeighborsClassifier\n",
        "# from sklearn.model_selection import ShuffleSplit\n",
        "# from pprint import pprint\n",
        "# import gensim\n",
        "# import numpy as np\n",
        "# from gensim.models import Word2Vec\n",
        "# from sklearn.model_selection import RandomizedSearchCV\n",
        "# from sklearn.model_selection import GridSearchCV\n",
        "# from sklearn.feature_extraction.text import CountVectorizer\n",
        "# from sklearn.metrics import classification_report, confusion_matrix, accuracy_score"
      ],
      "execution_count": null,
      "outputs": []
    },
    {
      "cell_type": "code",
      "metadata": {
        "id": "6fD9atpa917P",
        "colab_type": "code",
        "colab": {}
      },
      "source": [
        "# #get sentences from our data\n",
        "# new_sentences = df_balanced.preprocessed.to_list()\n",
        "\n",
        "# # https://github.com/deryrahman/word2vec-bahasa-indonesia/ : source pretrained model\n",
        "# path = '/content/gdrive/My Drive/FILE FG - RACISM/Model/idwiki_word2vec_100.model'\n",
        "# model = Word2Vec.load(path)\n",
        "# model.build_vocab(new_sentences, update=True)\n",
        "# model.train(new_sentences, total_examples=model.corpus_count, epochs=model.epochs)"
      ],
      "execution_count": null,
      "outputs": []
    },
    {
      "cell_type": "code",
      "metadata": {
        "id": "qXfRSsieB2hz",
        "colab_type": "code",
        "colab": {}
      },
      "source": [
        "# import logging\n",
        "# def word_averaging(model, sentences):\n",
        "#     all_words, mean = set(), []\n",
        "    \n",
        "#     for word in sentences:\n",
        "#         if isinstance(word, np.ndarray):\n",
        "#             mean.append(word)\n",
        "#         elif word in model.wv.vocab:\n",
        "#             mean.append(model.wv.syn0[model.wv.vocab[word].index])\n",
        "#             all_words.add(model.wv.vocab[word].index)\n",
        "\n",
        "#     if not mean:\n",
        "#         logging.warning(\"cannot compute similarity with no input %s\", sentences)\n",
        "#         # FIXME: remove these examples in pre-processing\n",
        "#         return np.zeros(model.wv.vector_size,)\n",
        "\n",
        "#     mean = gensim.matutils.unitvec(np.array(mean).mean(axis=0)).astype(np.float32)\n",
        "#     return mean\n",
        "# # model.wv.syn0norm\n",
        "# def  word_averaging_list(model, data):\n",
        "#     return np.vstack([word_averaging(model, sentences) for sentences in data])"
      ],
      "execution_count": null,
      "outputs": []
    },
    {
      "cell_type": "code",
      "metadata": {
        "id": "Ugr0JktrHCs6",
        "colab_type": "code",
        "colab": {}
      },
      "source": [
        "# X_train1, X_test1, y_train1, y_test1 = train_test_split(df_balanced.preprocessed, \n",
        "#                                                     df_balanced.label, \n",
        "#                                                     test_size=0.15, \n",
        "#                                                     random_state=8)\n",
        "\n",
        "# features_train1 = word_averaging_list(model,X_train1)\n",
        "# labels_train1 = y_train1\n",
        "# features_test1 = word_averaging_list(model,X_test1)\n",
        "# labels_test1 = y_test1"
      ],
      "execution_count": null,
      "outputs": []
    },
    {
      "cell_type": "code",
      "metadata": {
        "id": "xsFJrjGxbLDN",
        "colab_type": "code",
        "colab": {}
      },
      "source": [
        "# labels_train1 = pd.get_dummies(labels_train1).values\n",
        "# labels_test1 = pd.get_dummies(labels_test1).values\n",
        "# print('Shape of label tensor:', labels_train1.shape)"
      ],
      "execution_count": null,
      "outputs": []
    },
    {
      "cell_type": "code",
      "metadata": {
        "id": "BjySNHPS-hC5",
        "colab_type": "code",
        "colab": {}
      },
      "source": [
        "# features_test1.shape"
      ],
      "execution_count": null,
      "outputs": []
    },
    {
      "cell_type": "code",
      "metadata": {
        "id": "8jC6t0-b6KMt",
        "colab_type": "code",
        "colab": {
          "base_uri": "https://localhost:8080/",
          "height": 51
        },
        "outputId": "2dd08c05-3d9c-47b6-8ce6-70deb8675c7e"
      },
      "source": [
        "# #word count : kalo pake ini, pas preprocessing gausah di-tokenize\n",
        "# vectorizer = CountVectorizer()\n",
        "\n",
        "# features_train1 = vectorizer.fit_transform(X_train1).toarray()\n",
        "# labels_train1 = y_train1\n",
        "# print(features_train1.shape)\n",
        "\n",
        "# features_test1 = vectorizer.transform(X_test1).toarray()\n",
        "# labels_test1 = y_test1\n",
        "# print(features_test1.shape)"
      ],
      "execution_count": null,
      "outputs": [
        {
          "output_type": "stream",
          "text": [
            "(297, 2435)\n",
            "(53, 2435)\n"
          ],
          "name": "stdout"
        }
      ]
    },
    {
      "cell_type": "markdown",
      "metadata": {
        "id": "ma9_F4t94mmv",
        "colab_type": "text"
      },
      "source": [
        "##Classification : SVM"
      ]
    },
    {
      "cell_type": "code",
      "metadata": {
        "id": "o_mu9pur4zLa",
        "colab_type": "code",
        "colab": {}
      },
      "source": [
        "# parameter_svm = {'C': [.0001, .001, .01],\n",
        "#              'kernel': ['linear', 'rbf', 'poly'],\n",
        "#              'gamma': [.0001, .001, .01, .1, 1, 10, 100],\n",
        "#              'degree': [1, 2, 3, 4, 5],\n",
        "#              'probability': [True]\n",
        "#              }\n",
        "# # Definition of the random search\n",
        "# random_search_svm = RandomizedSearchCV(estimator=svm.SVC(random_state=8),\n",
        "#                                        param_distributions=parameter_svm,\n",
        "#                                        n_iter=50,\n",
        "#                                        scoring='accuracy',\n",
        "#                                        cv=3, \n",
        "#                                        verbose=1, \n",
        "#                                        random_state=8)\n",
        "\n",
        "# # Fit the random search model\n",
        "# random_search_svm.fit(features_train1, labels_train1)"
      ],
      "execution_count": null,
      "outputs": []
    },
    {
      "cell_type": "code",
      "metadata": {
        "id": "Nxw97CnO8lco",
        "colab_type": "code",
        "colab": {}
      },
      "source": [
        "# print(\"The best hyperparameters from Random Search for SVM are:\")\n",
        "# print(random_search_svm.best_params_)\n",
        "# print(\"\")\n",
        "# print(\"The mean accuracy of a model with these hyperparameters is:\")\n",
        "# print(random_search_svm.best_score_)"
      ],
      "execution_count": null,
      "outputs": []
    },
    {
      "cell_type": "code",
      "metadata": {
        "id": "dnHzgyrb80MB",
        "colab_type": "code",
        "colab": {}
      },
      "source": [
        "# # Create the parameter grid based on the results of random search \n",
        "# # Remember to change the value of param_grid with best params from random search\n",
        "# param_grid_svm = {'probability': [True], \n",
        "#                   'kernel': ['poly'], \n",
        "#                   'gamma': [10], \n",
        "#                   'degree': [4], \n",
        "#                   'C': [0.01]\n",
        "#                   }      \n",
        "\n",
        "# # Create a base model\n",
        "# classifier_svm = svm.SVC(random_state=8)\n",
        "\n",
        "# # Manually create the splits in CV in order to be able to fix a random_state (GridSearchCV doesn't have that argument)\n",
        "# cv_sets_svm = ShuffleSplit(n_splits = 3, test_size = .33, random_state = 8)\n",
        "\n",
        "# # Instantiate the grid search model\n",
        "# grid_search_svm = GridSearchCV(estimator=classifier_svm, \n",
        "#                            param_grid=param_grid_svm,\n",
        "#                            scoring='accuracy',\n",
        "#                            cv=cv_sets_svm,\n",
        "#                            verbose=1)\n",
        "\n",
        "# # Fit the grid search to the data\n",
        "# grid_search_svm.fit(features_train1, labels_train1)"
      ],
      "execution_count": null,
      "outputs": []
    },
    {
      "cell_type": "code",
      "metadata": {
        "id": "79DfvnX39vs_",
        "colab_type": "code",
        "colab": {}
      },
      "source": [
        "# print(\"The best hyperparameters from Grid Search for SVM are:\")\n",
        "# print(grid_search_svm.best_params_)\n",
        "# print(\"\")\n",
        "# print(\"The mean accuracy of a model with these hyperparameters is:\")\n",
        "# print(grid_search_svm.best_score_)"
      ],
      "execution_count": null,
      "outputs": []
    },
    {
      "cell_type": "markdown",
      "metadata": {
        "id": "6GfSBqjG-Yb9",
        "colab_type": "text"
      },
      "source": [
        "###Model Fit and Performance"
      ]
    },
    {
      "cell_type": "code",
      "metadata": {
        "id": "Fk8mPr8D-ORH",
        "colab_type": "code",
        "colab": {}
      },
      "source": [
        "# best_classifier_svm = grid_search_svm.best_estimator_\n",
        "# best_classifier_svm.fit(features_train1, labels_train1)"
      ],
      "execution_count": null,
      "outputs": []
    },
    {
      "cell_type": "code",
      "metadata": {
        "id": "TSKgGZGF-eVe",
        "colab_type": "code",
        "colab": {}
      },
      "source": [
        "# pred_train_svm = best_classifier_svm.predict(features_train1)\n",
        "# pred_test_svm = best_classifier_svm.predict(features_test1)"
      ],
      "execution_count": null,
      "outputs": []
    },
    {
      "cell_type": "code",
      "metadata": {
        "id": "7xe1CYia-2xF",
        "colab_type": "code",
        "colab": {}
      },
      "source": [
        "# results_svm = {\n",
        "#     'Data' : 'Balanced',\n",
        "#     'Model': 'SVM',\n",
        "#     'Training Set Accuracy': accuracy_score(labels_train1, pred_train_svm),\n",
        "#     'Test Set Accuracy': accuracy_score(labels_test1, pred_test_svm)\n",
        "# }\n",
        "\n",
        "# df_svm = pd.DataFrame(results_svm, index=[0])\n",
        "# df_svm"
      ],
      "execution_count": null,
      "outputs": []
    },
    {
      "cell_type": "markdown",
      "metadata": {
        "id": "m0dXX5FUyxFj",
        "colab_type": "text"
      },
      "source": [
        "##Classification : Random Forest"
      ]
    },
    {
      "cell_type": "code",
      "metadata": {
        "id": "KEWeq6xoy1XH",
        "colab_type": "code",
        "colab": {}
      },
      "source": [
        "# parameter_rf = {'n_estimators': [int(x) for x in np.linspace(start = 200, stop = 1000, num = 5)],\n",
        "#                 'max_features': ['auto', 'sqrt'],\n",
        "#                 'max_depth': [20, 40, 60, 80, 100, None],\n",
        "#                 'min_samples_split': [2, 5, 10],\n",
        "#                 'min_samples_leaf': [1, 2, 4],\n",
        "#                 'bootstrap': [True, False]\n",
        "#                 }\n",
        "# # Definition of the random search\n",
        "# random_search_rf = RandomizedSearchCV(estimator=RandomForestClassifier(random_state = 8),\n",
        "#                                       param_distributions=parameter_rf,\n",
        "#                                       n_iter=50,\n",
        "#                                       scoring='accuracy',\n",
        "#                                       cv=3,\n",
        "#                                       verbose=1, \n",
        "#                                       random_state=8)\n",
        "\n",
        "# # Fit the random search model\n",
        "# random_search_rf.fit(features_train1, labels_train1)"
      ],
      "execution_count": null,
      "outputs": []
    },
    {
      "cell_type": "code",
      "metadata": {
        "id": "WFtVNmI808rr",
        "colab_type": "code",
        "colab": {}
      },
      "source": [
        "# print(\"The best hyperparameters from Random Search for Random Forest are:\")\n",
        "# print(random_search_rf.best_params_)\n",
        "# print(\"\")\n",
        "# print(\"The mean accuracy of a model with these hyperparameters is:\")\n",
        "# print(random_search_rf.best_score_)"
      ],
      "execution_count": null,
      "outputs": []
    },
    {
      "cell_type": "code",
      "metadata": {
        "id": "UILrMACM1Hkw",
        "colab_type": "code",
        "colab": {}
      },
      "source": [
        "# # Create the parameter grid based on the results of random search \n",
        "# param_grid_rf = {'n_estimators': [1000], \n",
        "#                  'min_samples_split': [10], \n",
        "#                  'min_samples_leaf': [2], \n",
        "#                  'max_features': ['sqrt'], \n",
        "#                  'max_depth': [60], \n",
        "#                  'bootstrap': [True]}\n",
        "\n",
        "# # Create a base model\n",
        "# classifier_rf = RandomForestClassifier(random_state = 8)\n",
        "\n",
        "# # Manually create the splits in CV in order to be able to fix a random_state (GridSearchCV doesn't have that argument)\n",
        "# cv_sets_rf = ShuffleSplit(n_splits = 3, test_size = .33, random_state = 8)\n",
        "\n",
        "# # Instantiate the grid search model\n",
        "# grid_search_rf = GridSearchCV(estimator=classifier_rf, \n",
        "#                            param_grid=param_grid_rf,\n",
        "#                            scoring='accuracy',\n",
        "#                            cv=cv_sets_rf,\n",
        "#                            verbose=1)\n",
        "\n",
        "# # Fit the grid search to the data\n",
        "# grid_search_rf.fit(features_train1, labels_train1)"
      ],
      "execution_count": null,
      "outputs": []
    },
    {
      "cell_type": "code",
      "metadata": {
        "id": "JeNmcqLa1hlI",
        "colab_type": "code",
        "colab": {}
      },
      "source": [
        "# print(\"The best hyperparameters from Grid Search for Random Forest are:\")\n",
        "# print(grid_search_rf.best_params_)\n",
        "# print(\"\")\n",
        "# print(\"The mean accuracy of a model with these hyperparameters is:\")\n",
        "# print(grid_search_rf.best_score_)"
      ],
      "execution_count": null,
      "outputs": []
    },
    {
      "cell_type": "markdown",
      "metadata": {
        "id": "K_ZqAvET1uKN",
        "colab_type": "text"
      },
      "source": [
        "###Model Fit and Performance"
      ]
    },
    {
      "cell_type": "code",
      "metadata": {
        "id": "5wlIwN_92NXh",
        "colab_type": "code",
        "colab": {}
      },
      "source": [
        "# best_classifier_rf = grid_search_rf.best_estimator_\n",
        "# best_classifier_rf.fit(features_train1, labels_train1)"
      ],
      "execution_count": null,
      "outputs": []
    },
    {
      "cell_type": "code",
      "metadata": {
        "id": "yl5feVJy2Uz5",
        "colab_type": "code",
        "colab": {}
      },
      "source": [
        "# pred_train_rf = best_classifier_rf.predict(features_train1)\n",
        "# pred_test_rf = best_classifier_rf.predict(features_test1)"
      ],
      "execution_count": null,
      "outputs": []
    },
    {
      "cell_type": "code",
      "metadata": {
        "id": "2rtB7QEv2j3j",
        "colab_type": "code",
        "colab": {}
      },
      "source": [
        "# results_rf = {\n",
        "#     'Data' : 'Balanced',\n",
        "#     'Model': 'Random Forest',\n",
        "#     'Training Set Accuracy': accuracy_score(labels_train1, pred_train_rf),\n",
        "#     'Test Set Accuracy': accuracy_score(labels_test1, pred_test_rf)\n",
        "# }\n",
        "\n",
        "# df_rf = pd.DataFrame(results_rf, index=[0])\n",
        "# df_rf"
      ],
      "execution_count": null,
      "outputs": []
    },
    {
      "cell_type": "markdown",
      "metadata": {
        "id": "NiwTdMzv45Ou",
        "colab_type": "text"
      },
      "source": [
        "##Classification : KNN"
      ]
    },
    {
      "cell_type": "code",
      "metadata": {
        "id": "VhB3vPSf3JRO",
        "colab_type": "code",
        "colab": {}
      },
      "source": [
        "# parameter_knn = {'n_neighbors' : [1,2,3,4,5],\n",
        "#                  'weights' : ['uniform','distance'],\n",
        "#                  'algorithm' : ['auto','ball_tree','kd_tree','brute'],\n",
        "#                  'leaf_size' : [10,20,30],\n",
        "#                  'p' : [1,2]\n",
        "#                  }\n",
        "\n",
        "# # Definition of the random search\n",
        "# random_search_knn = RandomizedSearchCV(estimator=KNeighborsClassifier(),\n",
        "#                                       param_distributions=parameter_knn,\n",
        "#                                       n_iter=50,\n",
        "#                                       scoring='accuracy',\n",
        "#                                       cv=3,\n",
        "#                                       verbose=1, \n",
        "#                                       random_state=8)\n",
        "\n",
        "# # Fit the random search model\n",
        "# random_search_knn.fit(features_train1, labels_train1)"
      ],
      "execution_count": null,
      "outputs": []
    },
    {
      "cell_type": "code",
      "metadata": {
        "id": "-aQ54Bz55qy9",
        "colab_type": "code",
        "colab": {}
      },
      "source": [
        "# print(\"The best hyperparameters from Random Search for KNN are:\")\n",
        "# print(random_search_knn.best_params_)\n",
        "# print(\"\")\n",
        "# print(\"The mean accuracy of a model with these hyperparameters is:\")\n",
        "# print(random_search_knn.best_score_)"
      ],
      "execution_count": null,
      "outputs": []
    },
    {
      "cell_type": "code",
      "metadata": {
        "id": "B2CXMM9G50MP",
        "colab_type": "code",
        "colab": {}
      },
      "source": [
        "# # Create the parameter grid based on the results of random search \n",
        "# param_grid_knn = {'weights': ['distance'], \n",
        "#                   'p': [2], \n",
        "#                   'n_neighbors': [4], \n",
        "#                   'leaf_size': [30], \n",
        "#                   'algorithm': ['kd_tree']}\n",
        "# # Create a base model\n",
        "# classifier_knn = KNeighborsClassifier()\n",
        "\n",
        "# # Manually create the splits in CV in order to be able to fix a random_state (GridSearchCV doesn't have that argument)\n",
        "# cv_sets_knn = ShuffleSplit(n_splits = 3, test_size = .33, random_state = 8)\n",
        "\n",
        "# # Instantiate the grid search model\n",
        "# grid_search_knn = GridSearchCV(estimator=classifier_knn, \n",
        "#                            param_grid=param_grid_knn,\n",
        "#                            scoring='accuracy',\n",
        "#                            cv=cv_sets_knn,\n",
        "#                            verbose=1)\n",
        "\n",
        "# # Fit the grid search to the data\n",
        "# grid_search_knn.fit(features_train1, labels_train1)"
      ],
      "execution_count": null,
      "outputs": []
    },
    {
      "cell_type": "code",
      "metadata": {
        "id": "lfpOuFy67pVs",
        "colab_type": "code",
        "colab": {}
      },
      "source": [
        "# print(\"The best hyperparameters from Grid Search for KNN are:\")\n",
        "# print(grid_search_knn.best_params_)\n",
        "# print(\"\")\n",
        "# print(\"The mean accuracy of a model with these hyperparameters is:\")\n",
        "# print(grid_search_knn.best_score_)"
      ],
      "execution_count": null,
      "outputs": []
    },
    {
      "cell_type": "markdown",
      "metadata": {
        "id": "GtheAuxi7u2Q",
        "colab_type": "text"
      },
      "source": [
        "###Model Fit and Performance"
      ]
    },
    {
      "cell_type": "code",
      "metadata": {
        "id": "fdJNMaZe7xuh",
        "colab_type": "code",
        "colab": {}
      },
      "source": [
        "# best_classifier_knn = grid_search_knn.best_estimator_\n",
        "# best_classifier_knn.fit(features_train1, labels_train1)"
      ],
      "execution_count": null,
      "outputs": []
    },
    {
      "cell_type": "code",
      "metadata": {
        "id": "VkThBP0o75yW",
        "colab_type": "code",
        "colab": {}
      },
      "source": [
        "# pred_train_knn = best_classifier_knn.predict(features_train1)\n",
        "# pred_test_knn = best_classifier_knn.predict(features_test1)"
      ],
      "execution_count": null,
      "outputs": []
    },
    {
      "cell_type": "code",
      "metadata": {
        "id": "oPnvKLZ48AoJ",
        "colab_type": "code",
        "colab": {}
      },
      "source": [
        "# results_knn = {\n",
        "#     'Data' : 'Balanced',\n",
        "#     'Model': 'KNN',\n",
        "#     'Training Set Accuracy': accuracy_score(labels_train1, pred_train_knn),\n",
        "#     'Test Set Accuracy': accuracy_score(labels_test1, pred_test_knn)\n",
        "# }\n",
        "\n",
        "# df_knn = pd.DataFrame(results_knn, index=[0])\n",
        "# df_knn"
      ],
      "execution_count": null,
      "outputs": []
    },
    {
      "cell_type": "markdown",
      "metadata": {
        "id": "ijQrXmnj8elb",
        "colab_type": "text"
      },
      "source": [
        "##All Results : Balanced Data"
      ]
    },
    {
      "cell_type": "code",
      "metadata": {
        "id": "v0Wh0g4h8gVX",
        "colab_type": "code",
        "colab": {}
      },
      "source": [
        "# df_result1 = pd.concat([df_svm,df_rf,df_knn], ignore_index=True)\n",
        "# df_result1"
      ],
      "execution_count": null,
      "outputs": []
    }
  ]
}